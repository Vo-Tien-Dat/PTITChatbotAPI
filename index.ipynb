{
 "cells": [
  {
   "cell_type": "code",
   "execution_count": 2,
   "metadata": {},
   "outputs": [
    {
     "name": "stdout",
     "output_type": "stream",
     "text": [
      "cong nghe thong tin\n"
     ]
    }
   ],
   "source": [
    "import requests\n",
    "CONST_DOMAIN = 'http://127.0.0.1:5000'\n",
    "\n",
    "\n",
    "def name_and_description_element(name, description): \n",
    "    element_pattern = '{}: {}'.format(name, description)\n",
    "    return element_pattern\n",
    "major_name = 'cong_nghe_thong_tin'\n",
    "domain = '{}/major/content/{}'.format(CONST_DOMAIN,major_name)\n",
    "\n",
    "opp_mes_pattern = '{}:{}'\n",
    "try: \n",
    "    request = requests.get(domain)\n",
    "    if request.status_code == 200:\n",
    "        data = request.json()\n",
    "        message = ''.join(list(data.values()))\n",
    "        print(message)\n",
    "except Exception as e: \n",
    "    print(e)"
   ]
  },
  {
   "cell_type": "code",
   "execution_count": 16,
   "metadata": {},
   "outputs": [
    {
     "name": "stdout",
     "output_type": "stream",
     "text": [
      "['Phương thức thanh toán trực tiếp tại phòng công tác sinh viên', 'Thông qua app banking của các ngân hàng']\n"
     ]
    }
   ],
   "source": [
    "CONST_DOMAIN = 'http://127.0.0.1:5000'\n",
    "domain = '{}/cost/methods'.format(CONST_DOMAIN)\n",
    "try: \n",
    "    request = requests.get(domain)\n",
    "    if request.status_code == 200:\n",
    "        data = request.json()\n",
    "        description_list = [method_data[\"description\"] for method_data in data[\"data\"].values()]\n",
    "        print(description_list)\n",
    "except Exception as e: \n",
    "    print(e)"
   ]
  },
  {
   "cell_type": "code",
   "execution_count": null,
   "metadata": {},
   "outputs": [],
   "source": []
  }
 ],
 "metadata": {
  "kernelspec": {
   "display_name": "ChatbotAPIenv",
   "language": "python",
   "name": "python3"
  },
  "language_info": {
   "codemirror_mode": {
    "name": "ipython",
    "version": 3
   },
   "file_extension": ".py",
   "mimetype": "text/x-python",
   "name": "python",
   "nbconvert_exporter": "python",
   "pygments_lexer": "ipython3",
   "version": "3.10.9"
  },
  "orig_nbformat": 4
 },
 "nbformat": 4,
 "nbformat_minor": 2
}
